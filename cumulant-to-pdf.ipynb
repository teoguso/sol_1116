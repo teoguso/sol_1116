{
 "cells": [
  {
   "cell_type": "markdown",
   "metadata": {
    "slideshow": {
     "slide_type": "slide"
    }
   },
   "source": [
    "# Best report ever\n",
    "\n",
    "Everything you see here is either markdown, LaTex, Python or BASH."
   ]
  },
  {
   "cell_type": "markdown",
   "metadata": {
    "slideshow": {
     "slide_type": "subslide"
    }
   },
   "source": [
    "## The spectral function\n",
    "\n",
    "It looks like this:\n",
    "\\begin{equation}\n",
    " A(\\omega) = \\mathrm{Im}|G(\\omega)|\n",
    "\\end{equation}"
   ]
  },
  {
   "cell_type": "markdown",
   "metadata": {
    "slideshow": {
     "slide_type": "subslide"
    }
   },
   "source": [
    "## GW vs Cumulant\n",
    "\n",
    "Mathematically very different:\n",
    "\n",
    "\\begin{equation}\n",
    " G^{GW} (\\omega) = \\frac1{ \\omega - \\epsilon - \\Sigma (\\omega) } \n",
    "\\end{equation}"
   ]
  },
  {
   "cell_type": "markdown",
   "metadata": {
    "slideshow": {
     "slide_type": "fragment"
    }
   },
   "source": [
    "\\begin{equation}\n",
    " G^C(t_1, t_2) = G^0(t_1, t_2) e^{ i \\int_{t_1}^{t_2} \\int_{t'}^{t_2} dt' dt'' W (t', t'') }\n",
    "\\end{equation}\n",
    "\n"
   ]
  },
  {
   "cell_type": "markdown",
   "metadata": {
    "slideshow": {
     "slide_type": "fragment"
    }
   },
   "source": [
    "---\n",
    "BUT they connect through $\\mathrm{Im} W (\\omega) = \\frac1\\pi \\mathrm{Im} \\Sigma ( \\epsilon - \\omega )$."
   ]
  },
  {
   "cell_type": "markdown",
   "metadata": {
    "slideshow": {
     "slide_type": "-"
    }
   },
   "source": [
    "## Implementation\n",
    "\n",
    "Using a multi-pole representation for $\\Sigma^{GW}$:\n",
    "\n",
    "\\begin{equation}\n",
    " \\mathrm{Im} W (\\omega) = \\frac1\\pi \\mathrm{Im} \\Sigma ( \\epsilon - \\omega )\n",
    "\\end{equation}\n",
    "\\begin{equation}\n",
    " W (\\tau) = - i \\lambda \\bigl[ e^{ i \\omega_p \\tau } \\theta ( - \\tau ) + e^{ - i \\omega_p \\tau } \\theta ( \\tau ) \\bigr]\n",
    "\\end{equation}"
   ]
  },
  {
   "cell_type": "markdown",
   "metadata": {
    "slideshow": {
     "slide_type": "subslide"
    }
   },
   "source": [
    "## GW vs Cumulant\n",
    "\n",
    "- GW:\n",
    "\\begin{equation}\n",
    " A(\\omega) = \\frac1\\pi \\frac{\\mathrm{Im}\\Sigma (\\omega)} \n",
    " { [ \\omega - \\epsilon - \\mathrm{Re}\\Sigma (\\omega) ]^2 + \n",
    " [ \\mathrm{Im}\\Sigma (\\omega) ]^2}\n",
    "\\end{equation}"
   ]
  },
  {
   "cell_type": "markdown",
   "metadata": {
    "slideshow": {
     "slide_type": "fragment"
    }
   },
   "source": [
    "- Cumulant:\n",
    "\n",
    "\\begin{equation}\n",
    " A(\\omega) = \\frac1\\pi \\sum_{n=0}^{\\infty} \\frac{a^n}{n!} \\frac{\\Gamma}{ (\\omega - \\epsilon + n \\omega_p)^2 + \\Gamma^2 }\n",
    "\\end{equation}\n",
    "\n",
    "---"
   ]
  },
  {
   "cell_type": "markdown",
   "metadata": {},
   "source": [
    "# Now some executable code (Python)"
   ]
  },
  {
   "cell_type": "markdown",
   "metadata": {},
   "source": [
    "I have implemented the formulas above in my Python code. \n",
    "I can just run it from here., but **before** let me check\n",
    "if my input file is correct..."
   ]
  },
  {
   "cell_type": "code",
   "execution_count": null,
   "metadata": {
    "collapsed": false
   },
   "outputs": [],
   "source": [
    "!gvim data/SF_Si_bulk/invar.in"
   ]
  },
  {
   "cell_type": "markdown",
   "metadata": {},
   "source": [
    "Now I can run my script:"
   ]
  },
  {
   "cell_type": "code",
   "execution_count": null,
   "metadata": {
    "collapsed": false,
    "scrolled": true
   },
   "outputs": [],
   "source": [
    "%cd data/SF_Si_bulk/\n",
    "%run ../../../../../Code/SF/sf.py"
   ]
  },
  {
   "cell_type": "code",
   "execution_count": null,
   "metadata": {
    "collapsed": false
   },
   "outputs": [],
   "source": [
    "cd ../../../"
   ]
  },
  {
   "cell_type": "markdown",
   "metadata": {},
   "source": [
    "I have first to import a few modules/set up a few things:"
   ]
  },
  {
   "cell_type": "code",
   "execution_count": null,
   "metadata": {
    "collapsed": true,
    "slideshow": {
     "slide_type": "skip"
    }
   },
   "outputs": [],
   "source": [
    "from __future__ import print_function\n",
    "import numpy as np\n",
    "import matplotlib.pyplot as plt\n",
    "# plt.rcParams['figure.figsize'] = (9., 6.)\n",
    "%matplotlib inline"
   ]
  },
  {
   "cell_type": "markdown",
   "metadata": {},
   "source": [
    "Next I can read the data from a local folder:"
   ]
  },
  {
   "cell_type": "code",
   "execution_count": null,
   "metadata": {
    "collapsed": false
   },
   "outputs": [],
   "source": [
    "sf_c = np.genfromtxt(\n",
    "    'data/SF_Si_bulk/Spfunctions/spftot_exp_kpt_1_19_bd_1_4_s1.0_p1.0_800ev_np1.dat')\n",
    "sf_gw = np.genfromtxt(\n",
    "    'data/SF_Si_bulk/Spfunctions/spftot_gw_s1.0_p1.0_800ev.dat')\n",
    "#!gvim spftot_exp_kpt_1_19_bd_1_4_s1.0_p1.0_800ev_np1.dat"
   ]
  },
  {
   "cell_type": "markdown",
   "metadata": {},
   "source": [
    "Now I can plot the stored arrays."
   ]
  },
  {
   "cell_type": "code",
   "execution_count": null,
   "metadata": {
    "collapsed": false
   },
   "outputs": [],
   "source": [
    "plt.plot(sf_c[:,0], sf_c[:,1], label='1-pole cumulant')\n",
    "plt.plot(sf_gw[:,0], sf_gw[:,1], label='GW')\n",
    "plt.xlim(-50, 0)\n",
    "plt.ylim(0, 300)\n",
    "plt.title(\"Bulk Si - Spectral function - ib=1, ikpt=1\")\n",
    "plt.xlabel(\"Energy (eV)\")\n",
    "plt.grid(); plt.legend(loc='best')"
   ]
  },
  {
   "cell_type": "markdown",
   "metadata": {},
   "source": [
    "# Creating a PDF document\n",
    "\n",
    "I can create a PDF version of this notebook from itself, using the command line:"
   ]
  },
  {
   "cell_type": "code",
   "execution_count": null,
   "metadata": {
    "collapsed": false
   },
   "outputs": [],
   "source": [
    "!jupyter-nbconvert --to pdf cumulant-to-pdf.ipynb"
   ]
  },
  {
   "cell_type": "code",
   "execution_count": null,
   "metadata": {
    "collapsed": false
   },
   "outputs": [],
   "source": [
    "pwd"
   ]
  },
  {
   "cell_type": "code",
   "execution_count": null,
   "metadata": {
    "collapsed": true
   },
   "outputs": [],
   "source": [
    "!xpdf cumulant-to-pdf.pdf"
   ]
  },
  {
   "cell_type": "code",
   "execution_count": null,
   "metadata": {
    "collapsed": false
   },
   "outputs": [],
   "source": []
  }
 ],
 "metadata": {
  "anaconda-cloud": {},
  "celltoolbar": "Raw Cell Format",
  "kernelspec": {
   "display_name": "Python [Root]",
   "language": "python",
   "name": "Python [Root]"
  },
  "language_info": {
   "codemirror_mode": {
    "name": "ipython",
    "version": 2
   },
   "file_extension": ".py",
   "mimetype": "text/x-python",
   "name": "python",
   "nbconvert_exporter": "python",
   "pygments_lexer": "ipython2",
   "version": "2.7.12"
  }
 },
 "nbformat": 4,
 "nbformat_minor": 0
}
