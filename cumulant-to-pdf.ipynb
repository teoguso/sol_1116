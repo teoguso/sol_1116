{
 "cells": [
  {
   "cell_type": "markdown",
   "metadata": {
    "slideshow": {
     "slide_type": "slide"
    }
   },
   "source": [
    "# Prologue\n",
    "\n",
    "AKA *My Research*"
   ]
  },
  {
   "cell_type": "markdown",
   "metadata": {
    "slideshow": {
     "slide_type": "subslide"
    }
   },
   "source": [
    "## The cumulant expansion\n",
    "\n",
    "The struggle has been too long, but we are starting to see the light..."
   ]
  },
  {
   "cell_type": "markdown",
   "metadata": {
    "slideshow": {
     "slide_type": "subslide"
    }
   },
   "source": [
    "## As you might recall...\n",
    "\n",
    "\n",
    "We are trying to go beyond the GW approximation\n",
    "\n",
    "and succeed in describing satellites."
   ]
  },
  {
   "cell_type": "markdown",
   "metadata": {
    "slideshow": {
     "slide_type": "subslide"
    }
   },
   "source": [
    "## The spectral function\n",
    "\n",
    "It looks like this:\n",
    "\\begin{equation}\n",
    " A(\\omega) = \\mathrm{Im}|G(\\omega)|\n",
    "\\end{equation}"
   ]
  },
  {
   "cell_type": "markdown",
   "metadata": {
    "slideshow": {
     "slide_type": "subslide"
    }
   },
   "source": [
    "## GW vs Cumulant\n",
    "\n",
    "Mathematically very different:\n",
    "\n",
    "\\begin{equation}\n",
    " G^{GW} (\\omega) = \\frac1{ \\omega - \\epsilon - \\Sigma (\\omega) } \n",
    "\\end{equation}"
   ]
  },
  {
   "cell_type": "markdown",
   "metadata": {
    "slideshow": {
     "slide_type": "fragment"
    }
   },
   "source": [
    "\\begin{equation}\n",
    " G^C(t_1, t_2) = G^0(t_1, t_2) e^{ i \\int_{t_1}^{t_2} \\int_{t'}^{t_2} dt' dt'' W (t', t'') }\n",
    "\\end{equation}"
   ]
  },
  {
   "cell_type": "markdown",
   "metadata": {
    "slideshow": {
     "slide_type": "fragment"
    }
   },
   "source": [
    "BUT they connect through $\\mathrm{Im} W (\\omega) = \\frac1\\pi \\mathrm{Im} \\Sigma ( \\epsilon - \\omega )$."
   ]
  },
  {
   "cell_type": "markdown",
   "metadata": {
    "slideshow": {
     "slide_type": "skip"
    }
   },
   "source": [
    "## Implementation\n",
    "\n",
    "Using a multi-pole representation for $\\Sigma^{GW}$:\n",
    "\n",
    "\\begin{equation}\n",
    " \\mathrm{Im} W (\\omega) = \\frac1\\pi \\mathrm{Im} \\Sigma ( \\epsilon - \\omega )\n",
    "\\end{equation}\n",
    "\\begin{equation}\n",
    " W (\\tau) = - i \\lambda \\bigl[ e^{ i \\omega_p \\tau } \\theta ( - \\tau ) + e^{ - i \\omega_p \\tau } \\theta ( \\tau ) \\bigr]\n",
    "\\end{equation}"
   ]
  },
  {
   "cell_type": "markdown",
   "metadata": {
    "slideshow": {
     "slide_type": "subslide"
    }
   },
   "source": [
    "## GW vs Cumulant\n",
    "\n",
    "- GW:\n",
    "\\begin{equation}\n",
    " A(\\omega) = \\frac1\\pi \\frac{\\mathrm{Im}\\Sigma (\\omega)} \n",
    " { [ \\omega - \\epsilon - \\mathrm{Re}\\Sigma (\\omega) ]^2 + \n",
    " [ \\mathrm{Im}\\Sigma (\\omega) ]^2}\n",
    "\\end{equation}"
   ]
  },
  {
   "cell_type": "markdown",
   "metadata": {
    "slideshow": {
     "slide_type": "fragment"
    }
   },
   "source": [
    "- Cumulant:\n",
    "\\begin{equation}\n",
    " A(\\omega) = \\frac1\\pi \\sum_{n=0}^{\\infty} \\frac{a^n}{n!} \\frac{\\Gamma}{ (\\omega - \\epsilon + n \\omega_p)^2 + \\Gamma^2 }\n",
    "\\end{equation}"
   ]
  },
  {
   "cell_type": "code",
   "execution_count": 29,
   "metadata": {
    "collapsed": true,
    "slideshow": {
     "slide_type": "skip"
    }
   },
   "outputs": [],
   "source": [
    "from __future__ import print_function\n",
    "import numpy as np\n",
    "import matplotlib.pyplot as plt\n",
    "# plt.rcParams['figure.figsize'] = (9., 6.)\n",
    "%matplotlib inline"
   ]
  },
  {
   "cell_type": "code",
   "execution_count": 30,
   "metadata": {
    "collapsed": false
   },
   "outputs": [],
   "source": [
    "# %run ../../../../../Code/SF/sf.py\n",
    "sf_c = np.genfromtxt('spftot_exp_kpt_1_19_bd_1_4_s1.0_p1.0_800ev_np1.dat')\n",
    "sf_gw = np.genfromtxt('spftot_gw_s1.0_p1.0_800ev.dat')\n",
    "#!gvim spftot_exp_kpt_1_19_bd_1_4_s1.0_p1.0_800ev_np1.dat"
   ]
  },
  {
   "cell_type": "code",
   "execution_count": 36,
   "metadata": {
    "collapsed": false
   },
   "outputs": [
    {
     "data": {
      "text/plain": [
       "<matplotlib.legend.Legend at 0x2b41f1e04850>"
      ]
     },
     "execution_count": 36,
     "metadata": {},
     "output_type": "execute_result"
    },
    {
     "data": {
      "image/png": "[encoded data removed]",
      "text/plain": [
       "<matplotlib.figure.Figure at 0x2b41f1be9ad0>"
      ]
     },
     "metadata": {},
     "output_type": "display_data"
    }
   ],
   "source": [
    "plt.plot(sf_c[:,0], sf_c[:,1], label='1-pole cumulant')\n",
    "plt.plot(sf_gw[:,0], sf_gw[:,1], label='GW')\n",
    "plt.xlim(-50, 0)\n",
    "plt.ylim(0, 300)\n",
    "plt.grid(); plt.legend(loc='best')"
   ]
  },
  {
   "cell_type": "code",
   "execution_count": 47,
   "metadata": {
    "collapsed": false
   },
   "outputs": [
    {
     "name": "stdout",
     "output_type": "stream",
     "text": [
      "\u001b[m"
     ]
    }
   ],
   "source": [
    "!gvim invar.in"
   ]
  },
  {
   "cell_type": "code",
   "execution_count": null,
   "metadata": {
    "collapsed": true
   },
   "outputs": [],
   "source": []
  }
 ],
 "metadata": {
  "anaconda-cloud": {},
  "celltoolbar": "Slideshow",
  "kernelspec": {
   "display_name": "Python [Root]",
   "language": "python",
   "name": "Python [Root]"
  },
  "language_info": {
   "codemirror_mode": {
    "name": "ipython",
    "version": 2
   },
   "file_extension": ".py",
   "mimetype": "text/x-python",
   "name": "python",
   "nbconvert_exporter": "python",
   "pygments_lexer": "ipython2",
   "version": "2.7.12"
  }
 },
 "nbformat": 4,
 "nbformat_minor": 0
}
