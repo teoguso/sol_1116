{
 "cells": [
  {
   "cell_type": "markdown",
   "metadata": {
    "slideshow": {
     "slide_type": "slide"
    }
   },
   "source": [
    "# Science, Data, Tools\n",
    "or *'Tips and tricks for a possible everyday workflow'*\n",
    "\n",
    "## Matteo Guzzo"
   ]
  },
  {
   "cell_type": "markdown",
   "metadata": {
    "slideshow": {
     "slide_type": "slide"
    }
   },
   "source": [
    "# Prologue\n",
    "\n",
    "AKA *My Research*"
   ]
  },
  {
   "cell_type": "markdown",
   "metadata": {
    "slideshow": {
     "slide_type": "subslide"
    }
   },
   "source": [
    "## The cumulant expansion\n",
    "\n",
    "The struggle has been too long, but we are starting to see the light..."
   ]
  },
  {
   "cell_type": "markdown",
   "metadata": {
    "slideshow": {
     "slide_type": "subslide"
    }
   },
   "source": [
    "## As you might recall...\n",
    "\n",
    "\n",
    "We are trying to go beyond the GW approximation\n",
    "\n",
    "and succeed in describing satellites."
   ]
  },
  {
   "cell_type": "markdown",
   "metadata": {
    "slideshow": {
     "slide_type": "subslide"
    }
   },
   "source": [
    "## The spectral function\n",
    "\n",
    "\n",
    "\\begin{equation}\n",
    " A(\\omega) = {\\Im}|G(\\omega)|\n",
    "\\end{equation}"
   ]
  },
  {
   "cell_type": "markdown",
   "metadata": {
    "slideshow": {
     "slide_type": "subslide"
    }
   },
   "source": [
    "## GW vs Cumulant\n",
    "\n",
    "Two very different approaches:\n",
    "\n",
    "\\begin{equation}\n",
    " G^{GW} (\\omega) = \\frac1{ \\omega - \\epsilon - \\Sigma (\\omega) } \\;\\;\\;\\;\\;\\;\\;\\;\\;\\; \n",
    " G^C(t_1, t_2) = G^0(t_1, t_2) e^{ i \\int_{t_1}^{t_2} \\int_{t'}^{t_2} dt' dt'' W (t', t'') }\n",
    "\\end{equation}"
   ]
  },
  {
   "cell_type": "markdown",
   "metadata": {
    "slideshow": {
     "slide_type": "subslide"
    }
   },
   "source": [
    "## Implementation\n",
    "\n",
    "Using a multi-pole representation for $\\Sigma^{GW}$:\n",
    "\n",
    "\\begin{equation}\n",
    " \\Im W (\\omega) = \\frac1\\pi \\Im \\Sigma ( \\varepsilon - \\omega )\n",
    "\\end{equation}\n",
    "\\begin{equation}\n",
    " W (\\tau) = - i \\lambda \\bigl[ e^{ i \\omega_p \\tau } \\theta ( - \\tau ) + e^{ - i \\omega_p \\tau } \\theta ( \\tau ) \\bigr]\n",
    "\\end{equation}"
   ]
  },
  {
   "cell_type": "markdown",
   "metadata": {
    "slideshow": {
     "slide_type": "slide"
    }
   },
   "source": [
    "# Outline\n",
    "\n",
    "### How do you go about your everyday work?\n",
    "### What do you use for:"
   ]
  },
  {
   "cell_type": "markdown",
   "metadata": {
    "slideshow": {
     "slide_type": "fragment"
    }
   },
   "source": [
    "- Code writing and maintenance"
   ]
  },
  {
   "cell_type": "markdown",
   "metadata": {
    "slideshow": {
     "slide_type": "fragment"
    }
   },
   "source": [
    "- Data review and analysis"
   ]
  },
  {
   "cell_type": "markdown",
   "metadata": {
    "slideshow": {
     "slide_type": "fragment"
    }
   },
   "source": [
    "- Data and results presentation"
   ]
  },
  {
   "cell_type": "markdown",
   "metadata": {
    "slideshow": {
     "slide_type": "slide"
    }
   },
   "source": [
    "# Warning\n",
    "\n",
    "\n",
    "**Heavy dosage of git and python!**"
   ]
  },
  {
   "cell_type": "markdown",
   "metadata": {
    "slideshow": {
     "slide_type": "slide"
    }
   },
   "source": [
    "# How to show a raw notebook?\n",
    "Let's see if this works..."
   ]
  },
  {
   "cell_type": "code",
   "execution_count": null,
   "metadata": {
    "collapsed": false,
    "slideshow": {
     "slide_type": "subslide"
    }
   },
   "outputs": [],
   "source": [
    "# %pylab\n",
    "import numpy as np\n",
    "import matplotlib.pyplot as plt\n",
    "%matplotlib inline\n",
    "#import seaborn as sn\n",
    "#sn.set()\n",
    "with plt.xkcd():\n",
    "#     plt.rcParams['figure.figsize'] = (6., 4.)\n",
    "    x = np.linspace(-5, 5, 50)\n",
    "    gauss = np.exp(-(x**2) / 2)/np.sqrt(2 * np.pi)\n",
    "    ax = plt.subplot(111)\n",
    "    ax.plot(x, gauss, label=\"Best curve ever\")\n",
    "    cdf = np.array([np.trapz(gauss[:i], x[:i]) for i, _ in enumerate(gauss)])\n",
    "    plt.plot(x, cdf, label=\"Bestest curve ever\")\n",
    "    plt.xlim(-3, 3)\n",
    "    ax.set_xticks([])\n",
    "    ax.set_yticks([])\n",
    "    ax.spines['top'].set_visible(False)\n",
    "    ax.spines['right'].set_visible(False)\n",
    "    plt.xlabel('most exciting independent variable')\n",
    "    plt.ylabel(\"I'm not trolling\")\n",
    "    plt.legend(loc='best')\n",
    "    fname = \"./graphics/xkcd1.png\"\n",
    "#     fout = open(fname, 'x')\n",
    "    plt.savefig(fname)"
   ]
  },
  {
   "cell_type": "markdown",
   "metadata": {
    "slideshow": {
     "slide_type": "subslide"
    }
   },
   "source": [
    "<img src=\"files/graphics/xkcd1.png\">"
   ]
  },
  {
   "cell_type": "markdown",
   "metadata": {
    "slideshow": {
     "slide_type": "slide"
    }
   },
   "source": [
    "    # More cool stuff\n",
    "\n",
    "You can actually \n",
    "\\begin{equation}\n",
    " \\Sigma (\\omega) = \\int \\, d\\omega' ...\n",
    "\\end{equation}"
   ]
  },
  {
   "cell_type": "markdown",
   "metadata": {
    "slideshow": {
     "slide_type": "slide"
    }
   },
   "source": [
    "# Conclusion\n",
    "\n",
    "All this is actually very cool."
   ]
  },
  {
   "cell_type": "markdown",
   "metadata": {
    "slideshow": {
     "slide_type": "slide"
    }
   },
   "source": [
    "# Resources\n",
    "\n",
    "## Git\n",
    "- Some stuff\n",
    "- and some other"
   ]
  },
  {
   "cell_type": "markdown",
   "metadata": {
    "slideshow": {
     "slide_type": "fragment"
    }
   },
   "source": [
    "## Project Jupyter\n",
    "- Whatever\n",
    "- and whatnot"
   ]
  },
  {
   "cell_type": "markdown",
   "metadata": {
    "slideshow": {
     "slide_type": "fragment"
    }
   },
   "source": [
    "## Markdown\n",
    "- https://help.github.com/articles/getting-started-with-writing-and-formatting-on-github/\n",
    "- https://guides.github.com/features/mastering-markdown/"
   ]
  }
 ],
 "metadata": {
  "anaconda-cloud": {},
  "celltoolbar": "Slideshow",
  "kernelspec": {
   "display_name": "Python [py3]",
   "language": "python",
   "name": "Python [py3]"
  },
  "language_info": {
   "codemirror_mode": {
    "name": "ipython",
    "version": 3
   },
   "file_extension": ".py",
   "mimetype": "text/x-python",
   "name": "python",
   "nbconvert_exporter": "python",
   "pygments_lexer": "ipython3",
   "version": "3.5.2"
  }
 },
 "nbformat": 4,
 "nbformat_minor": 0
}
